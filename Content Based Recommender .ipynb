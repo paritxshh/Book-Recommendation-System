{
 "cells": [
  {
   "cell_type": "code",
   "execution_count": 1,
   "id": "1bc95388",
   "metadata": {},
   "outputs": [],
   "source": [
    "# importing libraries\n",
    "import pandas as pd\n",
    "from sklearn.metrics.pairwise import linear_kernel\n",
    "from sklearn.feature_extraction.text import TfidfVectorizer"
   ]
  },
  {
   "cell_type": "code",
   "execution_count": 2,
   "id": "3b67641d",
   "metadata": {},
   "outputs": [],
   "source": [
    "# reading file\n",
    "book_description = pd.read_csv('description.csv', encoding = 'latin-1')"
   ]
  },
  {
   "cell_type": "code",
   "execution_count": 3,
   "id": "b1b17a79",
   "metadata": {},
   "outputs": [
    {
     "data": {
      "text/html": [
       "<div>\n",
       "<style scoped>\n",
       "    .dataframe tbody tr th:only-of-type {\n",
       "        vertical-align: middle;\n",
       "    }\n",
       "\n",
       "    .dataframe tbody tr th {\n",
       "        vertical-align: top;\n",
       "    }\n",
       "\n",
       "    .dataframe thead th {\n",
       "        text-align: right;\n",
       "    }\n",
       "</style>\n",
       "<table border=\"1\" class=\"dataframe\">\n",
       "  <thead>\n",
       "    <tr style=\"text-align: right;\">\n",
       "      <th></th>\n",
       "      <th>BOOK NUMBER</th>\n",
       "      <th>BOOK TITLE</th>\n",
       "      <th>DESCRIPTION</th>\n",
       "    </tr>\n",
       "  </thead>\n",
       "  <tbody>\n",
       "    <tr>\n",
       "      <th>0</th>\n",
       "      <td>1</td>\n",
       "      <td>Harry Potter &amp; The Sorcerer's Stone</td>\n",
       "      <td>Harry Potter's life is miserable. His parents ...</td>\n",
       "    </tr>\n",
       "    <tr>\n",
       "      <th>1</th>\n",
       "      <td>2</td>\n",
       "      <td>Harry Potter &amp; The Chamber of Secrets</td>\n",
       "      <td>Ever since Harry Potter had come home for the ...</td>\n",
       "    </tr>\n",
       "    <tr>\n",
       "      <th>2</th>\n",
       "      <td>3</td>\n",
       "      <td>Harry Potter and The Prisoner of Azkaban</td>\n",
       "      <td>For twelve long years, the dread fortress of A...</td>\n",
       "    </tr>\n",
       "    <tr>\n",
       "      <th>3</th>\n",
       "      <td>4</td>\n",
       "      <td>Harry Potter and The Goblet of Fire</td>\n",
       "      <td>Harry Potter is midway through his training as...</td>\n",
       "    </tr>\n",
       "    <tr>\n",
       "      <th>4</th>\n",
       "      <td>5</td>\n",
       "      <td>Harry Potter and The Order of Phoenix</td>\n",
       "      <td>Harry has a lot on his mind for this, his fift...</td>\n",
       "    </tr>\n",
       "  </tbody>\n",
       "</table>\n",
       "</div>"
      ],
      "text/plain": [
       "   BOOK NUMBER                                BOOK TITLE  \\\n",
       "0            1       Harry Potter & The Sorcerer's Stone   \n",
       "1            2     Harry Potter & The Chamber of Secrets   \n",
       "2            3  Harry Potter and The Prisoner of Azkaban   \n",
       "3            4       Harry Potter and The Goblet of Fire   \n",
       "4            5     Harry Potter and The Order of Phoenix   \n",
       "\n",
       "                                         DESCRIPTION  \n",
       "0  Harry Potter's life is miserable. His parents ...  \n",
       "1  Ever since Harry Potter had come home for the ...  \n",
       "2  For twelve long years, the dread fortress of A...  \n",
       "3  Harry Potter is midway through his training as...  \n",
       "4  Harry has a lot on his mind for this, his fift...  "
      ]
     },
     "execution_count": 3,
     "metadata": {},
     "output_type": "execute_result"
    }
   ],
   "source": [
    "# checking if we have the right data\n",
    "book_description.head()"
   ]
  },
  {
   "cell_type": "code",
   "execution_count": 4,
   "id": "e7335204",
   "metadata": {},
   "outputs": [],
   "source": [
    "# removing the stop words\n",
    "books_tfidf = TfidfVectorizer(stop_words='english')\n",
    "# filling the missing values with empty string\n",
    "book_description['DESCRIPTION'] = book_description['DESCRIPTION'].fillna('')\n",
    "# computing TF-IDF matrix required for calculating cosine similarity\n",
    "book_description_matrix = books_tfidf.fit_transform(book_description['DESCRIPTION'])"
   ]
  },
  {
   "cell_type": "code",
   "execution_count": 5,
   "id": "49fa6fbe",
   "metadata": {},
   "outputs": [
    {
     "data": {
      "text/plain": [
       "(106, 1258)"
      ]
     },
     "execution_count": 5,
     "metadata": {},
     "output_type": "execute_result"
    }
   ],
   "source": [
    "# Let's check the shape of computed matrix\n",
    "book_description_matrix.shape"
   ]
  },
  {
   "cell_type": "code",
   "execution_count": 6,
   "id": "651ce67b",
   "metadata": {},
   "outputs": [],
   "source": [
    "# computing cosine similarity matrix using linear_kernal of sklearn\n",
    "cosine_similarity = linear_kernel(book_description_matrix, book_description_matrix)"
   ]
  },
  {
   "cell_type": "code",
   "execution_count": 7,
   "id": "be3da179",
   "metadata": {},
   "outputs": [],
   "source": [
    "indices = pd.Series(book_description['BOOK TITLE'].index)"
   ]
  },
  {
   "cell_type": "code",
   "execution_count": 8,
   "id": "6ba768f4",
   "metadata": {},
   "outputs": [],
   "source": [
    "# Function to get the most similar books\n",
    "def recommend(index, cosine_sim=cosine_similarity):\n",
    "    id = indices[index]\n",
    "    # Get the pairwsie similarity scores of all books compared to that book, \n",
    "    # sorting them and getting top 5\n",
    "    similarity_scores = list(enumerate(cosine_sim[id]))\n",
    "    similarity_scores = sorted(similarity_scores, key=lambda x: x[1], reverse=True)\n",
    "    similarity_scores = similarity_scores[1:6]\n",
    "\n",
    "    # Get the books index\n",
    "    books_index = [i[0] for i in similarity_scores]\n",
    "\n",
    "    # Return the top 5 most similar books using integer-location based indexing (iloc)\n",
    "    return book_description['BOOK NUMBER'].iloc[books_index]"
   ]
  },
  {
   "cell_type": "code",
   "execution_count": 9,
   "id": "d2b7485f",
   "metadata": {},
   "outputs": [
    {
     "data": {
      "text/plain": [
       "6      7\n",
       "80    81\n",
       "5      6\n",
       "72    73\n",
       "58    59\n",
       "Name: BOOK NUMBER, dtype: int64"
      ]
     },
     "execution_count": 9,
     "metadata": {},
     "output_type": "execute_result"
    }
   ],
   "source": [
    "# getting recommendation for book at index 2\n",
    "recommend(2)"
   ]
  },
  {
   "cell_type": "code",
   "execution_count": 10,
   "id": "32ce34fc",
   "metadata": {},
   "outputs": [
    {
     "data": {
      "text/plain": [
       "1    2\n",
       "3    4\n",
       "5    6\n",
       "2    3\n",
       "4    5\n",
       "Name: BOOK NUMBER, dtype: int64"
      ]
     },
     "execution_count": 10,
     "metadata": {},
     "output_type": "execute_result"
    }
   ],
   "source": [
    "# getting recommendation for book at index 6\n",
    "recommend(6)"
   ]
  },
  {
   "cell_type": "code",
   "execution_count": null,
   "id": "292b2687",
   "metadata": {},
   "outputs": [],
   "source": []
  }
 ],
 "metadata": {
  "kernelspec": {
   "display_name": "Python 3 (ipykernel)",
   "language": "python",
   "name": "python3"
  },
  "language_info": {
   "codemirror_mode": {
    "name": "ipython",
    "version": 3
   },
   "file_extension": ".py",
   "mimetype": "text/x-python",
   "name": "python",
   "nbconvert_exporter": "python",
   "pygments_lexer": "ipython3",
   "version": "3.9.7"
  }
 },
 "nbformat": 4,
 "nbformat_minor": 5
}
